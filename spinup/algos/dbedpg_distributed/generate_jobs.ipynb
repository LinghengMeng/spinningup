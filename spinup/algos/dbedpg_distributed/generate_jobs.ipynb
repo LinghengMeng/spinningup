{
 "cells": [
  {
   "cell_type": "code",
   "execution_count": 4,
   "metadata": {
    "pycharm": {
     "is_executing": true
    }
   },
   "outputs": [],
   "source": [
    "import numpy as np\n",
    "import os"
   ]
  },
  {
   "cell_type": "code",
   "execution_count": 5,
   "metadata": {
    "pycharm": {
     "is_executing": true,
     "name": "#%%\n"
    }
   },
   "outputs": [],
   "source": [
    "GPU_NUM = 1\n",
    "CPU_NUM = 6\n",
    "JOB_TIME = '1-04:00'\n",
    "JOB_MEMORY = '32000M'\n",
    "job_sub_dir = './job_scripts'\n",
    "job_out_dir = './job_scripts_output'\n",
    "if not os.path.exists(job_sub_dir):\n",
    "    os.makedirs(job_sub_dir)\n",
    "if not os.path.exists(job_out_dir):\n",
    "    os.makedirs(job_out_dir)"
   ]
  },
  {
   "cell_type": "code",
   "execution_count": 6,
   "metadata": {
    "pycharm": {
     "is_executing": true,
     "name": "#%%\n"
    }
   },
   "outputs": [
    {
     "name": "stdout",
     "output_type": "stream",
     "text": [
      "job_RoboschoolAnt-v1_0_1_1.sh\n",
      "job_RoboschoolAnt-v1_0_1_0.75.sh\n",
      "job_RoboschoolAnt-v1_0_20_1.sh\n",
      "job_RoboschoolAnt-v1_0_20_0.75.sh\n",
      "job_RoboschoolHalfCheetah-v1_0_1_1.sh\n",
      "job_RoboschoolHalfCheetah-v1_0_1_0.75.sh\n",
      "job_RoboschoolHalfCheetah-v1_0_20_1.sh\n",
      "job_RoboschoolHalfCheetah-v1_0_20_0.75.sh\n",
      "job_RoboschoolWalker2d-v1_0_1_1.sh\n",
      "job_RoboschoolWalker2d-v1_0_1_0.75.sh\n",
      "job_RoboschoolWalker2d-v1_0_20_1.sh\n",
      "job_RoboschoolWalker2d-v1_0_20_0.75.sh\n",
      "job_RoboschoolHopper-v1_0_1_1.sh\n",
      "job_RoboschoolHopper-v1_0_1_0.75.sh\n",
      "job_RoboschoolHopper-v1_0_20_1.sh\n",
      "job_RoboschoolHopper-v1_0_20_0.75.sh\n",
      "job_RoboschoolAnt-v1_1_1_1.sh\n",
      "job_RoboschoolAnt-v1_1_1_0.75.sh\n",
      "job_RoboschoolAnt-v1_1_20_1.sh\n",
      "job_RoboschoolAnt-v1_1_20_0.75.sh\n",
      "job_RoboschoolHalfCheetah-v1_1_1_1.sh\n",
      "job_RoboschoolHalfCheetah-v1_1_1_0.75.sh\n",
      "job_RoboschoolHalfCheetah-v1_1_20_1.sh\n",
      "job_RoboschoolHalfCheetah-v1_1_20_0.75.sh\n",
      "job_RoboschoolWalker2d-v1_1_1_1.sh\n",
      "job_RoboschoolWalker2d-v1_1_1_0.75.sh\n",
      "job_RoboschoolWalker2d-v1_1_20_1.sh\n",
      "job_RoboschoolWalker2d-v1_1_20_0.75.sh\n",
      "job_RoboschoolHopper-v1_1_1_1.sh\n",
      "job_RoboschoolHopper-v1_1_1_0.75.sh\n",
      "job_RoboschoolHopper-v1_1_20_1.sh\n",
      "job_RoboschoolHopper-v1_1_20_0.75.sh\n",
      "job_RoboschoolAnt-v1_2_1_1.sh\n",
      "job_RoboschoolAnt-v1_2_1_0.75.sh\n",
      "job_RoboschoolAnt-v1_2_20_1.sh\n",
      "job_RoboschoolAnt-v1_2_20_0.75.sh\n",
      "job_RoboschoolHalfCheetah-v1_2_1_1.sh\n",
      "job_RoboschoolHalfCheetah-v1_2_1_0.75.sh\n",
      "job_RoboschoolHalfCheetah-v1_2_20_1.sh\n",
      "job_RoboschoolHalfCheetah-v1_2_20_0.75.sh\n",
      "job_RoboschoolWalker2d-v1_2_1_1.sh\n",
      "job_RoboschoolWalker2d-v1_2_1_0.75.sh\n",
      "job_RoboschoolWalker2d-v1_2_20_1.sh\n",
      "job_RoboschoolWalker2d-v1_2_20_0.75.sh\n",
      "job_RoboschoolHopper-v1_2_1_1.sh\n",
      "job_RoboschoolHopper-v1_2_1_0.75.sh\n",
      "job_RoboschoolHopper-v1_2_20_1.sh\n",
      "job_RoboschoolHopper-v1_2_20_0.75.sh\n",
      "job_RoboschoolAnt-v1_3_1_1.sh\n",
      "job_RoboschoolAnt-v1_3_1_0.75.sh\n",
      "job_RoboschoolAnt-v1_3_20_1.sh\n",
      "job_RoboschoolAnt-v1_3_20_0.75.sh\n",
      "job_RoboschoolHalfCheetah-v1_3_1_1.sh\n",
      "job_RoboschoolHalfCheetah-v1_3_1_0.75.sh\n",
      "job_RoboschoolHalfCheetah-v1_3_20_1.sh\n",
      "job_RoboschoolHalfCheetah-v1_3_20_0.75.sh\n",
      "job_RoboschoolWalker2d-v1_3_1_1.sh\n",
      "job_RoboschoolWalker2d-v1_3_1_0.75.sh\n",
      "job_RoboschoolWalker2d-v1_3_20_1.sh\n",
      "job_RoboschoolWalker2d-v1_3_20_0.75.sh\n",
      "job_RoboschoolHopper-v1_3_1_1.sh\n",
      "job_RoboschoolHopper-v1_3_1_0.75.sh\n",
      "job_RoboschoolHopper-v1_3_20_1.sh\n",
      "job_RoboschoolHopper-v1_3_20_0.75.sh\n"
     ]
    }
   ],
   "source": [
    "tasks = ['RoboschoolAnt-v1', 'RoboschoolHalfCheetah-v1', 'RoboschoolWalker2d-v1', 'RoboschoolHopper-v1']\n",
    "seeds = ['0', '1', '2', '3']\n",
    "ensemble_size = ['1', '20']\n",
    "replay_buf_bootstrap_p = ['1', '0.75']\n",
    "\n",
    "for s in seeds:\n",
    "    for task in tasks:\n",
    "        for en_size in ensemble_size:\n",
    "            for b_p in replay_buf_bootstrap_p:\n",
    "                job_filename = 'job_{0}_{1}_{2}_{3}.sh'.format(task, s, en_size, b_p)\n",
    "                print(job_filename)\n",
    "                with open(os.path.join(job_sub_dir, job_filename), 'w') as job_file:\n",
    "                    job_file.write('#!/bin/bash\\n')\n",
    "                    job_file.write('#SBATCH --account=def-dkulic\\n')\n",
    "                    job_file.write('#SBATCH --gres=gpu:{}        # request GPU \"generic resource\"\\n'.format(GPU_NUM))\n",
    "                    job_file.write('#SBATCH --cpus-per-task={}    #Maximum of CPU cores per GPU request: 6 on Cedar, 16 on Graham.\\n'.format(CPU_NUM))\n",
    "                    job_file.write('#SBATCH --mem={}               # memory per node\\n'.format(JOB_MEMORY))\n",
    "                    job_file.write('#SBATCH --time={}            # time (DD-HH:MM)\\n'.format(JOB_TIME))\n",
    "                    job_file.write('#SBATCH --output=./job_scripts_output/dbedpg_{0}_{1}_{2}_{3}_%N-%j.out        # %N for node name, %j for jobID\\n'.format(task, s, en_size, b_p))\n",
    "                    job_file.write('## Main processing command\\n')\n",
    "                    job_file.write('module load cuda cudnn\\n')\n",
    "                    job_file.write('source ~/tf_gpu/bin/activate\\n')\n",
    "                    job_file.write('python ./dbedpg_distributed.py  --env {0} --seed {1} --ensemble_size {2} --replay_buf_bootstrap_p {3} --exp_name dbedpg_distributed_{0}_{1}_{2}'.format(task, s, en_size, b_p))\n"
   ]
  },
  {
   "cell_type": "code",
   "execution_count": null,
   "metadata": {
    "pycharm": {
     "is_executing": true,
     "name": "#%%\n"
    }
   },
   "outputs": [],
   "source": [
    "import os\n",
    "job_sub_dir = './job_scripts'\n",
    "jobs = os.listdir('./job_scripts')\n",
    "jobs.sort()\n",
    "\n",
    "for job in jobs:\n",
    "    code = os.system('sbatch {}'.format(os.path.join(job_sub_dir, job)))\n",
    "    print('{}: {}'.format(job, code))\n"
   ]
  },
  {
   "cell_type": "code",
   "execution_count": null,
   "metadata": {
    "pycharm": {
     "is_executing": true,
     "name": "#%%\n"
    }
   },
   "outputs": [],
   "source": [
    "job_sub_dir\n",
    "\n"
   ]
  },
  {
   "cell_type": "code",
   "execution_count": null,
   "metadata": {
    "pycharm": {
     "name": "#%%\n"
    }
   },
   "outputs": [],
   "source": [
    "\n"
   ]
  }
 ],
 "metadata": {
  "kernelspec": {
   "display_name": "Python 3",
   "language": "python",
   "name": "python3"
  },
  "language_info": {
   "codemirror_mode": {
    "name": "ipython",
    "version": 3
   },
   "file_extension": ".py",
   "mimetype": "text/x-python",
   "name": "python",
   "nbconvert_exporter": "python",
   "pygments_lexer": "ipython3",
   "version": "3.7.3"
  },
  "pycharm": {
   "stem_cell": {
    "cell_type": "raw",
    "metadata": {
     "collapsed": false
    },
    "source": []
   }
  }
 },
 "nbformat": 4,
 "nbformat_minor": 1
}
