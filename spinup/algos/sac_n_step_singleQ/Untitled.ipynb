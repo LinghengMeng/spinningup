{
 "cells": [
  {
   "cell_type": "markdown",
   "metadata": {},
   "source": [
    "# Soft Actor-Critic"
   ]
  },
  {
   "cell_type": "markdown",
   "metadata": {},
   "source": [
    "## 1L ss10000"
   ]
  },
  {
   "cell_type": "code",
   "execution_count": null,
   "metadata": {},
   "outputs": [],
   "source": [
    "import numpy as np\n",
    "import os\n",
    "CPU_NUM = 2\n",
    "JOB_TIME = '0-06:00'\n",
    "JOB_MEMORY = '8000M'\n",
    "job_sub_dir = './job_scripts'\n",
    "job_out_dir = './job_scripts_output'"
   ]
  },
  {
   "cell_type": "code",
   "execution_count": null,
   "metadata": {},
   "outputs": [],
   "source": [
    "os.makedirs(job_sub_dir)\n",
    "os.makedirs(job_out_dir)"
   ]
  },
  {
   "cell_type": "code",
   "execution_count": null,
   "metadata": {},
   "outputs": [],
   "source": [
    "tasks = ['RoboschoolAnt-v1', 'RoboschoolHalfCheetah-v1', 'RoboschoolWalker2d-v1', 'RoboschoolHopper-v1', \n",
    "         'RoboschoolInvertedPendulum-v1', 'RoboschoolInvertedPendulumSwingup-v1', \n",
    "         'RoboschoolInvertedDoublePendulum-v1', \n",
    "         'RoboschoolReacher-v1', 'RoboschoolPong-v1']\n",
    "\n",
    "n_steps = ['1', '2', '3', '4', '5']\n",
    "replay_size = ['1000000', '500000', '100000', '50000', '10000']\n",
    "seeds = ['0', '1', '2', '3']\n",
    "for s in seeds:\n",
    "    for task in tasks:\n",
    "        for n_s in n_steps:\n",
    "            for b_s in replay_size: \n",
    "                job_filename = 'job_{0}_{1}_{2}_{3}.sh'.format(task, s, n_s, b_s)\n",
    "                print(job_filename)\n",
    "                with open(os.path.join(job_sub_dir, job_filename), 'w') as job_file:\n",
    "                    job_file.write('#!/bin/bash\\n')\n",
    "                    job_file.write('#SBATCH --account=def-dkulic\\n')\n",
    "                    job_file.write('#SBATCH --cpus-per-task={}    #Maximum of CPU cores per GPU request: 6 on Cedar, 16 on Graham.\\n'.format(CPU_NUM))\n",
    "                    job_file.write('#SBATCH --mem={}               # memory per node\\n'.format(JOB_MEMORY))\n",
    "                    job_file.write('#SBATCH --time={}            # time (DD-HH:MM)\\n'.format(JOB_TIME))\n",
    "                    job_file.write('#SBATCH --output=./job_scripts_output/sac_n_step_2L_NoDelayTrain_{0}_{1}_{2}_{3}_%N-%j.out        # %N for node name, %j for jobID\\n'.format(task, s, n_s, b_s))\n",
    "                    job_file.write('## Main processing command\\n')\n",
    "                    job_file.write('module load cuda cudnn \\n')\n",
    "                    job_file.write('source ~/tf_gpu/bin/activate\\n')\n",
    "                    job_file.write('python ./sac_n_step.py  --env {0} --seed {1} --l 1 --n_step {2} --replay_size {3} --without_delay_train --start_steps 10000 --exp_name sac_n_step_1L_NoDelayTrain_ss10000_{0}_{1}_{2}_{3}'.format(task, s, n_s, b_s))\n",
    "\n",
    "                    "
   ]
  },
  {
   "cell_type": "markdown",
   "metadata": {},
   "source": [
    "## 1L ss100"
   ]
  },
  {
   "cell_type": "code",
   "execution_count": null,
   "metadata": {},
   "outputs": [],
   "source": [
    "import numpy as np\n",
    "import os\n",
    "CPU_NUM = 2\n",
    "JOB_TIME = '0-06:00'\n",
    "JOB_MEMORY = '8000M'\n",
    "job_sub_dir = './job_scripts'\n",
    "job_out_dir = './job_scripts_output'"
   ]
  },
  {
   "cell_type": "code",
   "execution_count": null,
   "metadata": {},
   "outputs": [],
   "source": [
    "tasks = ['RoboschoolAnt-v1', 'RoboschoolHalfCheetah-v1', 'RoboschoolWalker2d-v1', 'RoboschoolHopper-v1', \n",
    "         'RoboschoolInvertedPendulum-v1', 'RoboschoolInvertedPendulumSwingup-v1', \n",
    "         'RoboschoolInvertedDoublePendulum-v1', \n",
    "         'RoboschoolReacher-v1', 'RoboschoolPong-v1']\n",
    "\n",
    "n_steps = ['1', '2', '3', '4', '5']\n",
    "replay_size = ['1000000', '500000', '100000', '50000', '10000']\n",
    "seeds = ['0', '1', '2', '3']\n",
    "for s in seeds:\n",
    "    for task in tasks:\n",
    "        for n_s in n_steps:\n",
    "            for b_s in replay_size: \n",
    "                job_filename = 'job_{0}_{1}_{2}_{3}.sh'.format(task, s, n_s, b_s)\n",
    "                print(job_filename)\n",
    "                with open(os.path.join(job_sub_dir, job_filename), 'w') as job_file:\n",
    "                    job_file.write('#!/bin/bash\\n')\n",
    "                    job_file.write('#SBATCH --account=def-dkulic\\n')\n",
    "                    job_file.write('#SBATCH --cpus-per-task={}    #Maximum of CPU cores per GPU request: 6 on Cedar, 16 on Graham.\\n'.format(CPU_NUM))\n",
    "                    job_file.write('#SBATCH --mem={}               # memory per node\\n'.format(JOB_MEMORY))\n",
    "                    job_file.write('#SBATCH --time={}            # time (DD-HH:MM)\\n'.format(JOB_TIME))\n",
    "                    job_file.write('#SBATCH --output=./job_scripts_output/sac_n_step_2L_NoDelayTrain_{0}_{1}_{2}_{3}_%N-%j.out        # %N for node name, %j for jobID\\n'.format(task, s, n_s, b_s))\n",
    "                    job_file.write('## Main processing command\\n')\n",
    "                    job_file.write('module load cuda cudnn \\n')\n",
    "                    job_file.write('source ~/tf_gpu/bin/activate\\n')\n",
    "                    job_file.write('python ./sac_n_step.py  --env {0} --seed {1} --l 1 --n_step {2} --replay_size {3} --without_delay_train --start_steps 100 --data_dir spinup_data_sac_1L_ss100 --exp_name sac_n_step_1L_NoDelayTrain_ss100_{0}_{1}_{2}_{3}'.format(task, s, n_s, b_s))\n",
    "\n",
    "                    "
   ]
  },
  {
   "cell_type": "code",
   "execution_count": null,
   "metadata": {},
   "outputs": [],
   "source": [
    "import os\n",
    "job_sub_dir = './job_scripts'\n",
    "jobs = os.listdir('./job_scripts')\n",
    "jobs.sort()\n",
    "i=1\n",
    "for job in jobs:\n",
    "    code = os.system('sbatch {}'.format(os.path.join(job_sub_dir, job)))\n",
    "    print('{} ---- {}: {}'.format(i, job, code))\n",
    "    i += 1\n"
   ]
  },
  {
   "cell_type": "markdown",
   "metadata": {},
   "source": [
    "## 2L ss10000"
   ]
  },
  {
   "cell_type": "code",
   "execution_count": null,
   "metadata": {},
   "outputs": [],
   "source": [
    "import numpy as np\n",
    "import os\n",
    "CPU_NUM = 2\n",
    "JOB_TIME = '0-06:00'\n",
    "JOB_MEMORY = '8000M'\n",
    "job_sub_dir = './job_scripts'\n",
    "job_out_dir = './job_scripts_output'"
   ]
  },
  {
   "cell_type": "code",
   "execution_count": null,
   "metadata": {},
   "outputs": [],
   "source": [
    "os.makedirs(job_sub_dir)\n",
    "os.makedirs(job_out_dir)"
   ]
  },
  {
   "cell_type": "code",
   "execution_count": null,
   "metadata": {},
   "outputs": [],
   "source": [
    "tasks = ['RoboschoolAnt-v1', 'RoboschoolHalfCheetah-v1', 'RoboschoolWalker2d-v1', 'RoboschoolHopper-v1']\n",
    "\n",
    "n_steps = ['1', '2', '3', '4', '5']\n",
    "replay_size = ['1000000', '500000', '100000', '50000', '10000']\n",
    "seeds = ['0', '1', '2', '3']\n",
    "for s in seeds:\n",
    "    for task in tasks:\n",
    "        for n_s in n_steps:\n",
    "            for b_s in replay_size: \n",
    "                job_filename = 'job_{0}_{1}_{2}_{3}.sh'.format(task, s, n_s, b_s)\n",
    "                print(job_filename)\n",
    "                with open(os.path.join(job_sub_dir, job_filename), 'w') as job_file:\n",
    "                    job_file.write('#!/bin/bash\\n')\n",
    "                    job_file.write('#SBATCH --account=def-dkulic\\n')\n",
    "                    job_file.write('#SBATCH --cpus-per-task={}    #Maximum of CPU cores per GPU request: 6 on Cedar, 16 on Graham.\\n'.format(CPU_NUM))\n",
    "                    job_file.write('#SBATCH --mem={}               # memory per node\\n'.format(JOB_MEMORY))\n",
    "                    job_file.write('#SBATCH --time={}            # time (DD-HH:MM)\\n'.format(JOB_TIME))\n",
    "                    job_file.write('#SBATCH --output=./job_scripts_output/sac_n_step_2L_NoDelayTrain_{0}_{1}_{2}_{3}_%N-%j.out        # %N for node name, %j for jobID\\n'.format(task, s, n_s, b_s))\n",
    "                    job_file.write('## Main processing command\\n')\n",
    "                    job_file.write('module load cuda cudnn \\n')\n",
    "                    job_file.write('source ~/tf_gpu/bin/activate\\n')\n",
    "                    job_file.write('python ./sac_n_step.py  --env {0} --seed {1} --l 2 --n_step {2} --replay_size {3} --without_delay_train --start_steps 10000 --data_dir spinup_data_sac_2L --exp_name sac_n_step_2L_NoDelayTrain_ss10000_{0}_{1}_{2}_{3}'.format(task, s, n_s, b_s))\n",
    "\n"
   ]
  },
  {
   "cell_type": "markdown",
   "metadata": {},
   "source": [
    "## 2L ss100"
   ]
  },
  {
   "cell_type": "code",
   "execution_count": null,
   "metadata": {},
   "outputs": [],
   "source": [
    "import numpy as np\n",
    "import os\n",
    "CPU_NUM = 2\n",
    "JOB_TIME = '0-06:00'\n",
    "JOB_MEMORY = '8000M'\n",
    "job_sub_dir = './job_scripts'\n",
    "job_out_dir = './job_scripts_output'"
   ]
  },
  {
   "cell_type": "code",
   "execution_count": null,
   "metadata": {},
   "outputs": [],
   "source": [
    "\n",
    "tasks = ['RoboschoolAnt-v1', 'RoboschoolHalfCheetah-v1', 'RoboschoolWalker2d-v1', 'RoboschoolHopper-v1',\n",
    "         'RoboschoolInvertedPendulum-v1', 'RoboschoolInvertedPendulumSwingup-v1',\n",
    "         'RoboschoolInvertedDoublePendulum-v1', 'RoboschoolReacher-v1', 'RoboschoolPong-v1']\n",
    "\n",
    "n_steps = ['1', '2', '3', '4', '5']\n",
    "replay_size = ['1000000', '500000', '100000', '50000', '10000']\n",
    "seeds = ['0', '1', '2', '3']\n",
    "for s in seeds:\n",
    "    for task in tasks:\n",
    "        for n_s in n_steps:\n",
    "            for b_s in replay_size: \n",
    "                job_filename = 'job_{0}_{1}_{2}_{3}.sh'.format(task, s, n_s, b_s)\n",
    "                print(job_filename)\n",
    "                with open(os.path.join(job_sub_dir, job_filename), 'w') as job_file:\n",
    "                    job_file.write('#!/bin/bash\\n')\n",
    "                    job_file.write('#SBATCH --account=def-dkulic\\n')\n",
    "                    job_file.write('#SBATCH --cpus-per-task={}    #Maximum of CPU cores per GPU request: 6 on Cedar, 16 on Graham.\\n'.format(CPU_NUM))\n",
    "                    job_file.write('#SBATCH --mem={}               # memory per node\\n'.format(JOB_MEMORY))\n",
    "                    job_file.write('#SBATCH --time={}            # time (DD-HH:MM)\\n'.format(JOB_TIME))\n",
    "                    job_file.write('#SBATCH --output=./job_scripts_output/sac_n_step_2L_ss100_NoDelayTrain_{0}_{1}_{2}_{3}_%N-%j.out        # %N for node name, %j for jobID\\n'.format(task, s, n_s, b_s))\n",
    "                    job_file.write('## Main processing command\\n')\n",
    "                    job_file.write('module load cuda cudnn \\n')\n",
    "                    job_file.write('source ~/tf_gpu/bin/activate\\n')\n",
    "                    job_file.write('python ./sac_n_step.py  --env {0} --seed {1} --l 2 --n_step {2} --replay_size {3} --without_delay_train --start_steps 100 --data_dir spinup_data_sac_2L_ss100 --exp_name sac_n_step_2L_NoDelayTrain_ss100_{0}_{1}_{2}_{3}'.format(task, s, n_s, b_s))\n",
    "\n"
   ]
  },
  {
   "cell_type": "code",
   "execution_count": null,
   "metadata": {},
   "outputs": [],
   "source": [
    "import os\n",
    "job_sub_dir = './job_scripts'\n",
    "jobs = os.listdir('./job_scripts')\n",
    "jobs.sort()\n",
    "i=1\n",
    "for job in jobs:\n",
    "    code = os.system('sbatch {}'.format(os.path.join(job_sub_dir, job)))\n",
    "    print('{} ---- {}: {}'.format(i, job, code))\n",
    "    i += 1\n"
   ]
  },
  {
   "cell_type": "markdown",
   "metadata": {},
   "source": [
    "# PyBulletGym\n",
    "## 2L ss100"
   ]
  },
  {
   "cell_type": "code",
   "execution_count": null,
   "metadata": {},
   "outputs": [],
   "source": [
    "import numpy as np\n",
    "import os\n",
    "CPU_NUM = 2\n",
    "JOB_TIME = '0-06:00'\n",
    "JOB_MEMORY = '8000M'\n",
    "job_sub_dir = './job_scripts'\n",
    "job_out_dir = './job_scripts_output'"
   ]
  },
  {
   "cell_type": "code",
   "execution_count": null,
   "metadata": {},
   "outputs": [],
   "source": [
    "tasks = ['AntPyBulletEnv-v0', 'HalfCheetahPyBulletEnv-v0', 'Walker2DPyBulletEnv-v0', 'HopperPyBulletEnv-v0',\n",
    "         'ReacherPyBulletEnv-v0', 'PusherPyBulletEnv-v0', 'ThrowerPyBulletEnv-v0', 'StrikerPyBulletEnv-v0']\n",
    "\n",
    "n_steps = ['1', '2', '3', '4', '5']\n",
    "replay_size = ['1000000', '500000', '100000', '50000', '10000']\n",
    "seeds = ['0', '1', '2', '3']\n",
    "for s in seeds:\n",
    "    for task in tasks:\n",
    "        for n_s in n_steps:\n",
    "            for b_s in replay_size: \n",
    "                job_filename = 'job_{0}_{1}_{2}_{3}.sh'.format(task, s, n_s, b_s)\n",
    "                print(job_filename)\n",
    "                with open(os.path.join(job_sub_dir, job_filename), 'w') as job_file:\n",
    "                    job_file.write('#!/bin/bash\\n')\n",
    "                    job_file.write('#SBATCH --account=def-dkulic\\n')\n",
    "                    job_file.write('#SBATCH --cpus-per-task={}    #Maximum of CPU cores per GPU request: 6 on Cedar, 16 on Graham.\\n'.format(CPU_NUM))\n",
    "                    job_file.write('#SBATCH --mem={}               # memory per node\\n'.format(JOB_MEMORY))\n",
    "                    job_file.write('#SBATCH --time={}            # time (DD-HH:MM)\\n'.format(JOB_TIME))\n",
    "                    job_file.write('#SBATCH --output=./job_scripts_output/sac_n_step_2L_ss100_NoDelayTrain_{0}_{1}_{2}_{3}_%N-%j.out        # %N for node name, %j for jobID\\n'.format(task, s, n_s, b_s))\n",
    "                    job_file.write('## Main processing command\\n')\n",
    "                    job_file.write('module load cuda cudnn \\n')\n",
    "                    job_file.write('source ~/tf_gpu/bin/activate\\n')\n",
    "                    job_file.write('python ./sac_n_step.py  --env {0} --seed {1} --l 2 --n_step {2} --replay_size {3} --without_delay_train --start_steps 100 --data_dir spinup_data_sac_PyBullet_2L_ss100 --exp_name sac_n_step_2L_NoDelayTrain_ss100_{0}_{1}_{2}_{3}'.format(task, s, n_s, b_s))\n",
    "\n"
   ]
  },
  {
   "cell_type": "markdown",
   "metadata": {},
   "source": [
    "### 2L ss10000"
   ]
  },
  {
   "cell_type": "code",
   "execution_count": null,
   "metadata": {},
   "outputs": [],
   "source": [
    "tasks = ['AntPyBulletEnv-v0', 'HalfCheetahPyBulletEnv-v0', 'Walker2DPyBulletEnv-v0', 'HopperPyBulletEnv-v0',\n",
    "         'ReacherPyBulletEnv-v0', 'PusherPyBulletEnv-v0', 'ThrowerPyBulletEnv-v0', 'StrikerPyBulletEnv-v0']\n",
    "\n",
    "n_steps = ['1', '2', '3', '4', '5']\n",
    "replay_size = ['1000000', '500000', '100000', '50000', '10000']\n",
    "seeds = ['0', '1', '2', '3']\n",
    "for s in seeds:\n",
    "    for task in tasks:\n",
    "        for n_s in n_steps:\n",
    "            for b_s in replay_size: \n",
    "                job_filename = 'job_{0}_{1}_{2}_{3}.sh'.format(task, s, n_s, b_s)\n",
    "                print(job_filename)\n",
    "                with open(os.path.join(job_sub_dir, job_filename), 'w') as job_file:\n",
    "                    job_file.write('#!/bin/bash\\n')\n",
    "                    job_file.write('#SBATCH --account=def-dkulic\\n')\n",
    "                    job_file.write('#SBATCH --cpus-per-task={}    #Maximum of CPU cores per GPU request: 6 on Cedar, 16 on Graham.\\n'.format(CPU_NUM))\n",
    "                    job_file.write('#SBATCH --mem={}               # memory per node\\n'.format(JOB_MEMORY))\n",
    "                    job_file.write('#SBATCH --time={}            # time (DD-HH:MM)\\n'.format(JOB_TIME))\n",
    "                    job_file.write('#SBATCH --output=./job_scripts_output/sac_n_step_2L_ss100_NoDelayTrain_{0}_{1}_{2}_{3}_%N-%j.out        # %N for node name, %j for jobID\\n'.format(task, s, n_s, b_s))\n",
    "                    job_file.write('## Main processing command\\n')\n",
    "                    job_file.write('module load cuda cudnn \\n')\n",
    "                    job_file.write('source ~/tf_gpu/bin/activate\\n')\n",
    "                    job_file.write('python ./sac_n_step.py  --env {0} --seed {1} --l 2 --n_step {2} --replay_size {3} --without_delay_train --start_steps 10000 --data_dir spinup_data_sac_PyBullet_2L_ss10000 --exp_name sac_n_step_2L_NoDelayTrain_ss10000_{0}_{1}_{2}_{3}'.format(task, s, n_s, b_s))\n",
    "\n"
   ]
  }
 ],
 "metadata": {
  "kernelspec": {
   "display_name": "Python 3",
   "language": "python",
   "name": "python3"
  },
  "language_info": {
   "codemirror_mode": {
    "name": "ipython",
    "version": 3
   },
   "file_extension": ".py",
   "mimetype": "text/x-python",
   "name": "python",
   "nbconvert_exporter": "python",
   "pygments_lexer": "ipython3",
   "version": "3.7.3"
  }
 },
 "nbformat": 4,
 "nbformat_minor": 2
}
