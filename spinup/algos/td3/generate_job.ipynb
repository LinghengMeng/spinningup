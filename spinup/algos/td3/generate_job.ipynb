{
 "cells": [
  {
   "cell_type": "markdown",
   "metadata": {},
   "source": [
    "# TD3\n",
    "## Roboschool"
   ]
  },
  {
   "cell_type": "code",
   "execution_count": null,
   "metadata": {},
   "outputs": [],
   "source": [
    "import numpy as np\n",
    "import os\n",
    "CPU_NUM = 2\n",
    "JOB_TIME = '0-10:00'\n",
    "JOB_MEMORY = '8000M'\n",
    "job_sub_dir = './job_scripts'\n",
    "job_out_dir = './job_scripts_output'\n"
   ]
  },
  {
   "cell_type": "code",
   "execution_count": null,
   "metadata": {},
   "outputs": [],
   "source": [
    "os.makedirs(job_sub_dir)\n",
    "os.makedirs(job_out_dir)"
   ]
  },
  {
   "cell_type": "markdown",
   "metadata": {},
   "source": [
    "### 2L ss100"
   ]
  },
  {
   "cell_type": "code",
   "execution_count": null,
   "metadata": {},
   "outputs": [],
   "source": [
    "tasks = ['RoboschoolAnt-v1', 'RoboschoolHalfCheetah-v1', 'RoboschoolWalker2d-v1', 'RoboschoolHopper-v1',\n",
    "         'RoboschoolInvertedPendulum-v1', 'RoboschoolInvertedPendulumSwingup-v1', \n",
    "         'RoboschoolInvertedDoublePendulum-v1', 'RoboschoolReacher-v1', 'RoboschoolPong-v1']\n",
    "\n",
    "replay_size = ['1000000', '500000', '100000', '50000', '10000']\n",
    "seeds = ['0', '1', '2', '3']\n",
    "for s in seeds:\n",
    "    for task in tasks:\n",
    "        for b_s in replay_size:\n",
    "            job_filename = 'job_{0}_{1}_{2}.sh'.format(task, s, b_s)\n",
    "            print(job_filename)\n",
    "            with open(os.path.join(job_sub_dir, job_filename), 'w') as job_file:\n",
    "                job_file.write('#!/bin/bash\\n')\n",
    "                job_file.write('#SBATCH --account=def-dkulic\\n')\n",
    "                job_file.write('#SBATCH --cpus-per-task={}    #Maximum of CPU cores per GPU request: 6 on Cedar, 16 on Graham.\\n'.format(CPU_NUM))\n",
    "                job_file.write('#SBATCH --mem={}               # memory per node\\n'.format(JOB_MEMORY))\n",
    "                job_file.write('#SBATCH --time={}            # time (DD-HH:MM)\\n'.format(JOB_TIME))\n",
    "                job_file.write('#SBATCH --output=./job_scripts_output/td3_2L_NoDelayTrain_{0}_{1}_{2}_%N-%j.out        # %N for node name, %j for jobID\\n'.format(task, s, b_s))\n",
    "                job_file.write('## Main processing command\\n')\n",
    "                job_file.write('module load cuda cudnn \\n')\n",
    "                job_file.write('source ~/tf_cpu/bin/activate\\n')\n",
    "                job_file.write('python ./td3.py  --env {0} --seed {1} --l 2 --replay_size {2} --without_delay_train --without_target_policy_smoothing --start_steps 100 --data_dir spinup_data_td3_2L_ss100_WithoutTargetSmoothing_Roboschool --exp_name td3_2L_NoDelayTrain_ss100_{0}_{1}_{2}'.format(task, s, b_s))\n"
   ]
  },
  {
   "cell_type": "markdown",
   "metadata": {},
   "source": [
    "## PyBulletGym"
   ]
  },
  {
   "cell_type": "code",
   "execution_count": null,
   "metadata": {},
   "outputs": [],
   "source": [
    "tasks = ['AntPyBulletEnv-v0', 'HalfCheetahPyBulletEnv-v0', 'Walker2DPyBulletEnv-v0', 'HopperPyBulletEnv-v0',\n",
    "         'ReacherPyBulletEnv-v0', 'InvertedPendulumPyBulletEnv-v0', 'InvertedPendulumSwingupPyBulletEnv-v0', \n",
    "         'InvertedDoublePendulumPyBulletEnv-v0']\n",
    "\n",
    "replay_size = ['1000000', '500000', '100000', '50000', '10000']\n",
    "seeds = ['0', '1', '2', '3']\n",
    "for s in seeds:\n",
    "    for task in tasks:\n",
    "        for b_s in replay_size:\n",
    "            job_filename = 'job_{0}_{1}_{2}.sh'.format(task, s, b_s)\n",
    "            print(job_filename)\n",
    "            with open(os.path.join(job_sub_dir, job_filename), 'w') as job_file:\n",
    "                job_file.write('#!/bin/bash\\n')\n",
    "                job_file.write('#SBATCH --account=def-dkulic\\n')\n",
    "                job_file.write('#SBATCH --cpus-per-task={}    #Maximum of CPU cores per GPU request: 6 on Cedar, 16 on Graham.\\n'.format(CPU_NUM))\n",
    "                job_file.write('#SBATCH --mem={}               # memory per node\\n'.format(JOB_MEMORY))\n",
    "                job_file.write('#SBATCH --time={}            # time (DD-HH:MM)\\n'.format(JOB_TIME))\n",
    "                job_file.write('#SBATCH --output=./job_scripts_output/td3_2L_NoDelayTrain_{0}_{1}_{2}_%N-%j.out        # %N for node name, %j for jobID\\n'.format(task, s, b_s))\n",
    "                job_file.write('## Main processing command\\n')\n",
    "                job_file.write('module load cuda cudnn \\n')\n",
    "                job_file.write('source ~/tf_gpu/bin/activate\\n')\n",
    "                job_file.write('python ./td3.py  --env {0} --seed {1} --l 2 --replay_size {2} --without_delay_train --without_target_policy_smoothing --start_steps 100 --data_dir spinup_data_td3_2L_ss100_WithoutTargetSmoothing_PyBulletGym --exp_name td3_2L_NoDelayTrain_ss100_{0}_{1}_{2}'.format(task, s, b_s))\n"
   ]
  },
  {
   "cell_type": "code",
   "execution_count": null,
   "metadata": {},
   "outputs": [],
   "source": [
    "import os\n",
    "job_sub_dir = './job_scripts'\n",
    "jobs = os.listdir('./job_scripts')\n",
    "jobs.sort()\n",
    "i=1\n",
    "for job in jobs:\n",
    "    code = os.system('sbatch {}'.format(os.path.join(job_sub_dir, job)))\n",
    "    print('{} ---- {}: {}'.format(i, job, code))\n",
    "    i += 1\n"
   ]
  },
  {
   "cell_type": "markdown",
   "metadata": {},
   "source": [
    "# New jobs"
   ]
  },
  {
   "cell_type": "code",
   "execution_count": null,
   "metadata": {},
   "outputs": [],
   "source": [
    "import numpy as np\n",
    "import os\n",
    "CPU_NUM = 4\n",
    "JOB_TIME = '0-10:00'\n",
    "JOB_MEMORY = '12000M'\n",
    "job_sub_dir = './job_scripts'\n",
    "job_out_dir = './job_scripts_output'"
   ]
  },
  {
   "cell_type": "code",
   "execution_count": null,
   "metadata": {},
   "outputs": [],
   "source": [
    "os.makedirs(job_sub_dir)\n",
    "os.makedirs(job_out_dir)"
   ]
  },
  {
   "cell_type": "code",
   "execution_count": null,
   "metadata": {},
   "outputs": [],
   "source": [
    "tasks = ['AntPyBulletEnv-v0', 'HalfCheetahPyBulletEnv-v0', 'Walker2DPyBulletEnv-v0', 'HopperPyBulletEnv-v0',\n",
    "         'ReacherPyBulletEnv-v0', 'InvertedPendulumPyBulletEnv-v0', 'InvertedPendulumSwingupPyBulletEnv-v0', \n",
    "         'InvertedDoublePendulumPyBulletEnv-v0',\n",
    "         'HumanoidPyBulletEnv-v0','HumanoidFlagrunPyBulletEnv-v0', 'HumanoidFlagrunHarderPyBulletEnv-v0',\n",
    "         'InvertedPendulumMuJoCoEnv-v0', 'InvertedDoublePendulumMuJoCoEnv-v0', \n",
    "         'Walker2DMuJoCoEnv-v0', 'HalfCheetahMuJoCoEnv-v0', 'AntMuJoCoEnv-v0', 'HopperMuJoCoEnv-v0',\n",
    "         'HumanoidMuJoCoEnv-v0']\n",
    "\n",
    "replay_size = ['1000000', '500000']\n",
    "seeds = ['0', '1', '2', '3', '4']\n",
    "for s in seeds:\n",
    "    for task in tasks:\n",
    "        for b_s in replay_size:\n",
    "            job_filename = 'job_{0}_{1}_{2}.sh'.format(task, s, b_s)\n",
    "            print(job_filename)\n",
    "            with open(os.path.join(job_sub_dir, job_filename), 'w') as job_file:\n",
    "                job_file.write('#!/bin/bash\\n')\n",
    "                job_file.write('#SBATCH --account=def-dkulic\\n')\n",
    "                job_file.write('#SBATCH --cpus-per-task={}    #Maximum of CPU cores per GPU request: 6 on Cedar, 16 on Graham.\\n'.format(CPU_NUM))\n",
    "                job_file.write('#SBATCH --mem={}               # memory per node\\n'.format(JOB_MEMORY))\n",
    "                job_file.write('#SBATCH --time={}            # time (DD-HH:MM)\\n'.format(JOB_TIME))\n",
    "                job_file.write('#SBATCH --output=./job_scripts_output/td3_{0}_{1}_{2}_%N-%j.out        # %N for node name, %j for jobID\\n'.format(task, s, b_s))\n",
    "                job_file.write('## Main processing command\\n')\n",
    "                job_file.write('module load cuda cudnn \\n')\n",
    "                job_file.write('source ~/tf_gpu/bin/activate\\n')\n",
    "                job_file.write('python ./td3.py  --env {0} --seed {1} --replay_size {2} --data_dir spinup_data_td3_PyBulletGym --exp_name td3_{0}_{1}_{2}'.format(task, s, b_s))\n"
   ]
  },
  {
   "cell_type": "code",
   "execution_count": null,
   "metadata": {},
   "outputs": [],
   "source": []
  }
 ],
 "metadata": {
  "kernelspec": {
   "display_name": "Python 3",
   "language": "python",
   "name": "python3"
  },
  "language_info": {
   "codemirror_mode": {
    "name": "ipython",
    "version": 3
   },
   "file_extension": ".py",
   "mimetype": "text/x-python",
   "name": "python",
   "nbconvert_exporter": "python",
   "pygments_lexer": "ipython3",
   "version": "3.7.3"
  }
 },
 "nbformat": 4,
 "nbformat_minor": 2
}
