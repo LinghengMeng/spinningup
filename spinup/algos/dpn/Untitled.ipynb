{
 "cells": [
  {
   "cell_type": "code",
   "execution_count": 1,
   "metadata": {},
   "outputs": [],
   "source": [
    "import numpy as np\n",
    "import os"
   ]
  },
  {
   "cell_type": "code",
   "execution_count": 2,
   "metadata": {},
   "outputs": [],
   "source": [
    "GPU_NUM = 1\n",
    "CPU_NUM = 2\n",
    "JOB_TIME = '0-05:00'\n",
    "JOB_MEMORY = '8000M'\n",
    "job_sub_dir = './job_scripts'\n",
    "job_out_dir = './job_scripts_output'"
   ]
  },
  {
   "cell_type": "code",
   "execution_count": 3,
   "metadata": {},
   "outputs": [],
   "source": [
    "# os.makedirs(job_sub_dir)\n",
    "# os.makedirs(job_out_dir)"
   ]
  },
  {
   "cell_type": "code",
   "execution_count": 4,
   "metadata": {},
   "outputs": [
    {
     "name": "stdout",
     "output_type": "stream",
     "text": [
      "job_PongNoFrameskip-v4_0.sh\n",
      "job_PongNoFrameskip-v4_1.sh\n",
      "job_PongNoFrameskip-v4_2.sh\n",
      "job_PongNoFrameskip-v4_3.sh\n"
     ]
    }
   ],
   "source": [
    "tasks = ['PongNoFrameskip-v4']\n",
    "seeds = ['0', '1', '2', '3']\n",
    "for s in seeds:\n",
    "    for task in tasks:\n",
    "        job_filename = 'job_{0}_{1}.sh'.format(task, s)\n",
    "        print(job_filename)\n",
    "        with open(os.path.join(job_sub_dir, job_filename), 'w') as job_file:\n",
    "            job_file.write('#!/bin/bash\\n')\n",
    "            job_file.write('#SBATCH --account=def-dkulic\\n')\n",
    "            job_file.write('#SBATCH --cpus-per-task={}    #Maximum of CPU cores per GPU request: 6 on Cedar, 16 on Graham.\\n'.format(CPU_NUM))\n",
    "            job_file.write('#SBATCH --mem={}               # memory per node\\n'.format(JOB_MEMORY))\n",
    "            job_file.write('#SBATCH --time={}            # time (DD-HH:MM)\\n'.format(JOB_TIME))\n",
    "            job_file.write('#SBATCH --output=./job_scripts_output/dqn_{0}_{1}_%N-%j.out        # %N for node name, %j for jobID\\n'.format(task, s))\n",
    "            job_file.write('## Main processing command\\n')\n",
    "            job_file.write('module load cuda cudnn \\n')\n",
    "            job_file.write('source ~/tf_gpu/bin/activate\\n')\n",
    "            job_file.write('python ./dqn.py  -g {0} -s {1} --l 2 --exp_name dqn_{0}_{1}'.format(task, s))\n"
   ]
  },
  {
   "cell_type": "code",
   "execution_count": null,
   "metadata": {},
   "outputs": [],
   "source": []
  }
 ],
 "metadata": {
  "kernelspec": {
   "display_name": "Python 3",
   "language": "python",
   "name": "python3"
  },
  "language_info": {
   "codemirror_mode": {
    "name": "ipython",
    "version": 3
   },
   "file_extension": ".py",
   "mimetype": "text/x-python",
   "name": "python",
   "nbconvert_exporter": "python",
   "pygments_lexer": "ipython3",
   "version": "3.6.8"
  }
 },
 "nbformat": 4,
 "nbformat_minor": 2
}
