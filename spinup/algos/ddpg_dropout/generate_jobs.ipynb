{
 "cells": [
  {
   "cell_type": "code",
   "execution_count": 1,
   "metadata": {
    "collapsed": true,
    "pycharm": {
     "is_executing": false
    }
   },
   "outputs": [],
   "source": [
    "import numpy as np\n",
    "import os"
   ]
  },
  {
   "cell_type": "code",
   "execution_count": 19,
   "outputs": [],
   "source": [
    "GPU_NUM = 1\n",
    "CPU_NUM = 6\n",
    "JOB_TIME = '0-04:00'\n",
    "JOB_MEMORY = '32000M'\n",
    "PROCESS_SCRIPT = './draw_interest_area_on_videos.py'\n",
    "job_sub_dir = './job_scripts'\n",
    "job_out_dir = './job_scripts_output'\n",
    "if not os.path.exists(job_sub_dir):\n",
    "    os.makedirs(job_sub_dir)\n",
    "if not os.path.exists(job_out_dir):\n",
    "    os.makedirs(job_out_dir)"
   ],
   "metadata": {
    "collapsed": false,
    "pycharm": {
     "name": "#%%\n",
     "is_executing": false
    }
   }
  },
  {
   "cell_type": "code",
   "execution_count": 22,
   "outputs": [
    {
     "name": "stdout",
     "text": [
      "job_RoboschoolAnt-v1_0.sh\njob_RoboschoolAnt-v1_0.01.sh\njob_RoboschoolAnt-v1_0.05.sh\njob_RoboschoolAnt-v1_0.1.sh\njob_RoboschoolAnt-v1_0.2.sh\njob_RoboschoolHalfCheetah-v1_0.sh\njob_RoboschoolHalfCheetah-v1_0.01.sh\njob_RoboschoolHalfCheetah-v1_0.05.sh\njob_RoboschoolHalfCheetah-v1_0.1.sh\njob_RoboschoolHalfCheetah-v1_0.2.sh\njob_RoboschoolWalker2d-v1_0.sh\njob_RoboschoolWalker2d-v1_0.01.sh\njob_RoboschoolWalker2d-v1_0.05.sh\njob_RoboschoolWalker2d-v1_0.1.sh\njob_RoboschoolWalker2d-v1_0.2.sh\njob_RoboschoolHopper-v1_0.sh\njob_RoboschoolHopper-v1_0.01.sh\njob_RoboschoolHopper-v1_0.05.sh\njob_RoboschoolHopper-v1_0.1.sh\njob_RoboschoolHopper-v1_0.2.sh\n"
     ],
     "output_type": "stream"
    }
   ],
   "source": [
    "tasks = ['RoboschoolAnt-v1', 'RoboschoolHalfCheetah-v1', 'RoboschoolWalker2d-v1', 'RoboschoolHopper-v1']\n",
    "dropout_rates = ['0', '0.01', '0.05', '0.1', '0.2']\n",
    "for task in tasks:\n",
    "    for dropout in dropout_rates:\n",
    "        job_filename = 'job_{}_{}.sh'.format(task, dropout)\n",
    "        print(job_filename)\n",
    "        with open(os.path.join(job_sub_dir, job_filename), 'w') as job_file:\n",
    "            job_file.write('#!/bin/bash\\n')\n",
    "            job_file.write('#SBATCH --account=def-dkulic\\n')\n",
    "            job_file.write('#SBATCH --gres=gpu:{}        # request GPU \"generic resource\"\\n'.format(GPU_NUM))\n",
    "            job_file.write('#SBATCH --cpus-per-task={}    #Maximum of CPU cores per GPU request: 6 on Cedar, 16 on Graham.\\n'.format(CPU_NUM))\n",
    "            job_file.write('#SBATCH --mem={}               # memory per node\\n'.format(JOB_MEMORY))\n",
    "            job_file.write('#SBATCH --time={}            # time (DD-HH:MM)\\n'.format(JOB_TIME))\n",
    "            job_file.write('#SBATCH --output=./job_scripts_output/dbedpg_{0}_{1}_%N-%j.out        # %N for node name, %j for jobID\\n'.format(task, dropout))\n",
    "            job_file.write('## Main processing command\\n')\n",
    "            job_file.write('module load cuda cudnn\\n')\n",
    "            job_file.write('source ~/tf_gpu/bin/activate\\n')\n",
    "            job_file.write('python ./ddpg_dropout.py  --env {0} --new_mlp --dropout_rate {1} --exp_name dbedpg_{0}_{1}'.format(task, dropout))\n"
   ],
   "metadata": {
    "collapsed": false,
    "pycharm": {
     "name": "#%%\n",
     "is_executing": false
    }
   }
  },
  {
   "cell_type": "code",
   "execution_count": 21,
   "outputs": [
    {
     "name": "stdout",
     "text": [
      "./job_scripts/job_RoboschoolAnt-v1_0.01.sh\n./job_scripts/job_RoboschoolAnt-v1_0.05.sh\n./job_scripts/job_RoboschoolAnt-v1_0.1.sh\n./job_scripts/job_RoboschoolAnt-v1_0.2.sh\n./job_scripts/job_RoboschoolAnt-v1_0.sh\n./job_scripts/job_RoboschoolHalfCheetah-v1_0.01.sh\n./job_scripts/job_RoboschoolHalfCheetah-v1_0.05.sh\n./job_scripts/job_RoboschoolHalfCheetah-v1_0.1.sh\n./job_scripts/job_RoboschoolHalfCheetah-v1_0.2.sh\n./job_scripts/job_RoboschoolHalfCheetah-v1_0.sh\n./job_scripts/job_RoboschoolHopper-v1_0.01.sh\n./job_scripts/job_RoboschoolHopper-v1_0.05.sh\n./job_scripts/job_RoboschoolHopper-v1_0.1.sh\n./job_scripts/job_RoboschoolHopper-v1_0.2.sh\n./job_scripts/job_RoboschoolHopper-v1_0.sh\n./job_scripts/job_RoboschoolWalker2d-v1_0.01.sh\n./job_scripts/job_RoboschoolWalker2d-v1_0.05.sh\n./job_scripts/job_RoboschoolWalker2d-v1_0.1.sh\n./job_scripts/job_RoboschoolWalker2d-v1_0.2.sh\n./job_scripts/job_RoboschoolWalker2d-v1_0.sh\n"
     ],
     "output_type": "stream"
    }
   ],
   "source": [
    "import os\n",
    "job_sub_dir = './job_scripts'\n",
    "jobs = os.listdir('./job_scripts')\n",
    "jobs.sort()\n",
    "\n",
    "for job in jobs:\n",
    "    code = os.system('sbatch {}'.format(os.path.join(job_sub_dir, job)))\n",
    "    print('{}: {}'.format(job, code))\n"
   ],
   "metadata": {
    "collapsed": false,
    "pycharm": {
     "name": "#%%\n",
     "is_executing": false
    }
   }
  },
  {
   "cell_type": "code",
   "execution_count": 8,
   "outputs": [
    {
     "data": {
      "text/plain": "['job_RoboschoolAnt-v1_0.01.sh',\n 'job_RoboschoolAnt-v1_0.05.sh',\n 'job_RoboschoolAnt-v1_0.1.sh',\n 'job_RoboschoolAnt-v1_0.2.sh',\n 'job_RoboschoolAnt-v1_0.sh',\n 'job_RoboschoolHalfCheetah-v1_0.01.sh',\n 'job_RoboschoolHalfCheetah-v1_0.05.sh',\n 'job_RoboschoolHalfCheetah-v1_0.1.sh',\n 'job_RoboschoolHalfCheetah-v1_0.2.sh',\n 'job_RoboschoolHalfCheetah-v1_0.sh',\n 'job_RoboschoolHopper-v1_0.01.sh',\n 'job_RoboschoolHopper-v1_0.05.sh',\n 'job_RoboschoolHopper-v1_0.1.sh',\n 'job_RoboschoolHopper-v1_0.2.sh',\n 'job_RoboschoolHopper-v1_0.sh',\n 'job_RoboschoolWalker2d-v1_0.01.sh',\n 'job_RoboschoolWalker2d-v1_0.05.sh',\n 'job_RoboschoolWalker2d-v1_0.1.sh',\n 'job_RoboschoolWalker2d-v1_0.2.sh',\n 'job_RoboschoolWalker2d-v1_0.sh']"
     },
     "metadata": {},
     "output_type": "execute_result",
     "execution_count": 8
    }
   ],
   "source": [
    "job_sub_dir\n",
    "\n",
    "\n"
   ],
   "metadata": {
    "collapsed": false,
    "pycharm": {
     "name": "#%%\n",
     "is_executing": false
    }
   }
  }
 ],
 "metadata": {
  "language_info": {
   "codemirror_mode": {
    "name": "ipython",
    "version": 2
   },
   "file_extension": ".py",
   "mimetype": "text/x-python",
   "name": "python",
   "nbconvert_exporter": "python",
   "pygments_lexer": "ipython2",
   "version": "2.7.6"
  },
  "kernelspec": {
   "name": "python3",
   "language": "python",
   "display_name": "Python 3"
  },
  "pycharm": {
   "stem_cell": {
    "cell_type": "raw",
    "source": [],
    "metadata": {
     "collapsed": false
    }
   }
  }
 },
 "nbformat": 4,
 "nbformat_minor": 0
}