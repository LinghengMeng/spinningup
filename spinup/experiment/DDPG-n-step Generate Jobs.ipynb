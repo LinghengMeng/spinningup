{
 "cells": [
  {
   "cell_type": "markdown",
   "metadata": {},
   "source": [
    "# DDPG-n-step Generate Jobs"
   ]
  },
  {
   "cell_type": "code",
   "execution_count": null,
   "metadata": {},
   "outputs": [],
   "source": [
    "import numpy as np\n",
    "import os\n",
    "CPU_NUM = 4\n",
    "JOB_TIME = '0-10:00'\n",
    "JOB_MEMORY = '12000M'\n",
    "job_sub_dir = './job_scripts'\n",
    "job_out_dir = './job_scripts_output'"
   ]
  },
  {
   "cell_type": "code",
   "execution_count": null,
   "metadata": {},
   "outputs": [],
   "source": [
    "os.makedirs(job_sub_dir)\n",
    "os.makedirs(job_out_dir)"
   ]
  },
  {
   "cell_type": "code",
   "execution_count": null,
   "metadata": {},
   "outputs": [],
   "source": [
    "tasks = ['AntPyBulletEnv-v0', 'HalfCheetahPyBulletEnv-v0', 'Walker2DPyBulletEnv-v0', 'HopperPyBulletEnv-v0',\n",
    "         'ReacherPyBulletEnv-v0', 'InvertedPendulumPyBulletEnv-v0', 'InvertedPendulumSwingupPyBulletEnv-v0', \n",
    "         'InvertedDoublePendulumPyBulletEnv-v0',\n",
    "         'HumanoidPyBulletEnv-v0','HumanoidFlagrunPyBulletEnv-v0', 'HumanoidFlagrunHarderPyBulletEnv-v0',\n",
    "         'InvertedPendulumMuJoCoEnv-v0', 'InvertedDoublePendulumMuJoCoEnv-v0', \n",
    "         'Walker2DMuJoCoEnv-v0', 'HalfCheetahMuJoCoEnv-v0', 'AntMuJoCoEnv-v0', 'HopperMuJoCoEnv-v0',\n",
    "         'HumanoidMuJoCoEnv-v0']\n",
    "\n",
    "replay_size = ['1000000', '500000']\n",
    "seeds = ['0', '1', '2', '3', '4']\n",
    "n_step = [5, 8]\n",
    "backup_method = ['avg_n_step', 'min_n_step', 'avg_n_step_exclude_1', '1_step', '2_step', '3_step', '4_step', \n",
    "                 '5_step', '6_step', '7_step', '8_step']\n",
    "for s in seeds:\n",
    "    for task in tasks:\n",
    "        for b_s in replay_size:\n",
    "            for n_s in n_step:\n",
    "                for b_m in backup_method:\n",
    "                    job_filename = 'job_{0}_{1}_{2}_{3}.sh'.format(task, s, b_s, b_m)\n",
    "                    print(job_filename)\n",
    "                    with open(os.path.join(job_sub_dir, job_filename), 'w') as job_file:\n",
    "                        job_file.write('#!/bin/bash\\n')\n",
    "                        job_file.write('#SBATCH --account=def-dkulic\\n')\n",
    "                        job_file.write('#SBATCH --cpus-per-task={}    #Maximum of CPU cores per GPU request: 6 on Cedar, 16 on Graham.\\n'.format(CPU_NUM))\n",
    "                        job_file.write('#SBATCH --mem={}               # memory per node\\n'.format(JOB_MEMORY))\n",
    "                        job_file.write('#SBATCH --time={}            # time (DD-HH:MM)\\n'.format(JOB_TIME))\n",
    "                        job_file.write('#SBATCH --output=./job_scripts_output/ddpg_new_step_new_{0}_{1}_{2}_{3}_{4}_%N-%j.out        # %N for node name, %j for jobID\\n'.format(task, s, b_s, n_s, b_m))\n",
    "                        job_file.write('## Main processing command\\n')\n",
    "                        job_file.write('module load cuda cudnn \\n')\n",
    "                        job_file.write('source ~/tf_gpu/bin/activate\\n')\n",
    "                        job_file.write('python ./ddpg_n_step_new.py  --env {0} --seed {1} --replay_size {2} --n_step {3} --backup_method {4} --data_dir spinup_data_ddpg_n_step_new_PyBulletGym --exp_name ddpg_n_step_new_{0}_{1}_{2}'.format(task, s, b_s, n_s, b_m))\n"
   ]
  },
  {
   "cell_type": "code",
   "execution_count": null,
   "metadata": {},
   "outputs": [],
   "source": [
    "import os\n",
    "job_sub_dir = './job_scripts'\n",
    "jobs = os.listdir('./job_scripts')\n",
    "jobs.sort()\n",
    "i=1\n",
    "for job in jobs:\n",
    "    code = os.system('sbatch {}'.format(os.path.join(job_sub_dir, job)))\n",
    "    print('{} ---- {}: {}'.format(i, job, code))\n",
    "    i += 1\n"
   ]
  },
  {
   "cell_type": "markdown",
   "metadata": {},
   "source": [
    "# Baseline"
   ]
  },
  {
   "cell_type": "code",
   "execution_count": 19,
   "metadata": {},
   "outputs": [],
   "source": [
    "import numpy as np\n",
    "import os\n",
    "import time\n",
    "from datetime import datetime\n",
    "CPU_NUM = 4\n",
    "JOB_TIME = '0-10:00'\n",
    "JOB_MEMORY = '12000M'"
   ]
  },
  {
   "cell_type": "code",
   "execution_count": 22,
   "metadata": {},
   "outputs": [],
   "source": [
    "timestample = str(datetime.now()).replace(' ','_').replace('-','_').replace(':','_').split('.')[0]\n",
    "job_sub_dir = './{}_td3_job_scripts'.format(timestample)\n",
    "job_out_dir = './{}_td3_job_scripts_output'.format(timestample)\n",
    "data_out_dir = '{}_td3_PyBulletGym'.format(timestample)\n",
    "\n",
    "if not os.path.exists(job_sub_dir):\n",
    "    os.makedirs(job_sub_dir)\n",
    "if not os.path.exists(job_out_dir):\n",
    "    os.makedirs(job_out_dir)"
   ]
  },
  {
   "cell_type": "code",
   "execution_count": 23,
   "metadata": {},
   "outputs": [
    {
     "name": "stdout",
     "output_type": "stream",
     "text": [
      "job_AntPyBulletEnv-v0_0.sh\n",
      "job_AntPyBulletEnv-v0_1.sh\n",
      "job_AntPyBulletEnv-v0_2.sh\n",
      "job_AntPyBulletEnv-v0_3.sh\n",
      "job_AntPyBulletEnv-v0_4.sh\n",
      "job_HalfCheetahPyBulletEnv-v0_0.sh\n",
      "job_HalfCheetahPyBulletEnv-v0_1.sh\n",
      "job_HalfCheetahPyBulletEnv-v0_2.sh\n",
      "job_HalfCheetahPyBulletEnv-v0_3.sh\n",
      "job_HalfCheetahPyBulletEnv-v0_4.sh\n",
      "job_Walker2DPyBulletEnv-v0_0.sh\n",
      "job_Walker2DPyBulletEnv-v0_1.sh\n",
      "job_Walker2DPyBulletEnv-v0_2.sh\n",
      "job_Walker2DPyBulletEnv-v0_3.sh\n",
      "job_Walker2DPyBulletEnv-v0_4.sh\n",
      "job_HopperPyBulletEnv-v0_0.sh\n",
      "job_HopperPyBulletEnv-v0_1.sh\n",
      "job_HopperPyBulletEnv-v0_2.sh\n",
      "job_HopperPyBulletEnv-v0_3.sh\n",
      "job_HopperPyBulletEnv-v0_4.sh\n",
      "job_ReacherPyBulletEnv-v0_0.sh\n",
      "job_ReacherPyBulletEnv-v0_1.sh\n",
      "job_ReacherPyBulletEnv-v0_2.sh\n",
      "job_ReacherPyBulletEnv-v0_3.sh\n",
      "job_ReacherPyBulletEnv-v0_4.sh\n",
      "job_InvertedPendulumPyBulletEnv-v0_0.sh\n",
      "job_InvertedPendulumPyBulletEnv-v0_1.sh\n",
      "job_InvertedPendulumPyBulletEnv-v0_2.sh\n",
      "job_InvertedPendulumPyBulletEnv-v0_3.sh\n",
      "job_InvertedPendulumPyBulletEnv-v0_4.sh\n",
      "job_InvertedPendulumSwingupPyBulletEnv-v0_0.sh\n",
      "job_InvertedPendulumSwingupPyBulletEnv-v0_1.sh\n",
      "job_InvertedPendulumSwingupPyBulletEnv-v0_2.sh\n",
      "job_InvertedPendulumSwingupPyBulletEnv-v0_3.sh\n",
      "job_InvertedPendulumSwingupPyBulletEnv-v0_4.sh\n",
      "job_InvertedDoublePendulumPyBulletEnv-v0_0.sh\n",
      "job_InvertedDoublePendulumPyBulletEnv-v0_1.sh\n",
      "job_InvertedDoublePendulumPyBulletEnv-v0_2.sh\n",
      "job_InvertedDoublePendulumPyBulletEnv-v0_3.sh\n",
      "job_InvertedDoublePendulumPyBulletEnv-v0_4.sh\n",
      "job_HumanoidPyBulletEnv-v0_0.sh\n",
      "job_HumanoidPyBulletEnv-v0_1.sh\n",
      "job_HumanoidPyBulletEnv-v0_2.sh\n",
      "job_HumanoidPyBulletEnv-v0_3.sh\n",
      "job_HumanoidPyBulletEnv-v0_4.sh\n",
      "job_HumanoidFlagrunPyBulletEnv-v0_0.sh\n",
      "job_HumanoidFlagrunPyBulletEnv-v0_1.sh\n",
      "job_HumanoidFlagrunPyBulletEnv-v0_2.sh\n",
      "job_HumanoidFlagrunPyBulletEnv-v0_3.sh\n",
      "job_HumanoidFlagrunPyBulletEnv-v0_4.sh\n",
      "job_HumanoidFlagrunHarderPyBulletEnv-v0_0.sh\n",
      "job_HumanoidFlagrunHarderPyBulletEnv-v0_1.sh\n",
      "job_HumanoidFlagrunHarderPyBulletEnv-v0_2.sh\n",
      "job_HumanoidFlagrunHarderPyBulletEnv-v0_3.sh\n",
      "job_HumanoidFlagrunHarderPyBulletEnv-v0_4.sh\n",
      "job_InvertedPendulumMuJoCoEnv-v0_0.sh\n",
      "job_InvertedPendulumMuJoCoEnv-v0_1.sh\n",
      "job_InvertedPendulumMuJoCoEnv-v0_2.sh\n",
      "job_InvertedPendulumMuJoCoEnv-v0_3.sh\n",
      "job_InvertedPendulumMuJoCoEnv-v0_4.sh\n",
      "job_InvertedDoublePendulumMuJoCoEnv-v0_0.sh\n",
      "job_InvertedDoublePendulumMuJoCoEnv-v0_1.sh\n",
      "job_InvertedDoublePendulumMuJoCoEnv-v0_2.sh\n",
      "job_InvertedDoublePendulumMuJoCoEnv-v0_3.sh\n",
      "job_InvertedDoublePendulumMuJoCoEnv-v0_4.sh\n",
      "job_Walker2DMuJoCoEnv-v0_0.sh\n",
      "job_Walker2DMuJoCoEnv-v0_1.sh\n",
      "job_Walker2DMuJoCoEnv-v0_2.sh\n",
      "job_Walker2DMuJoCoEnv-v0_3.sh\n",
      "job_Walker2DMuJoCoEnv-v0_4.sh\n",
      "job_HalfCheetahMuJoCoEnv-v0_0.sh\n",
      "job_HalfCheetahMuJoCoEnv-v0_1.sh\n",
      "job_HalfCheetahMuJoCoEnv-v0_2.sh\n",
      "job_HalfCheetahMuJoCoEnv-v0_3.sh\n",
      "job_HalfCheetahMuJoCoEnv-v0_4.sh\n",
      "job_AntMuJoCoEnv-v0_0.sh\n",
      "job_AntMuJoCoEnv-v0_1.sh\n",
      "job_AntMuJoCoEnv-v0_2.sh\n",
      "job_AntMuJoCoEnv-v0_3.sh\n",
      "job_AntMuJoCoEnv-v0_4.sh\n",
      "job_HopperMuJoCoEnv-v0_0.sh\n",
      "job_HopperMuJoCoEnv-v0_1.sh\n",
      "job_HopperMuJoCoEnv-v0_2.sh\n",
      "job_HopperMuJoCoEnv-v0_3.sh\n",
      "job_HopperMuJoCoEnv-v0_4.sh\n",
      "job_HumanoidMuJoCoEnv-v0_0.sh\n",
      "job_HumanoidMuJoCoEnv-v0_1.sh\n",
      "job_HumanoidMuJoCoEnv-v0_2.sh\n",
      "job_HumanoidMuJoCoEnv-v0_3.sh\n",
      "job_HumanoidMuJoCoEnv-v0_4.sh\n"
     ]
    }
   ],
   "source": [
    "tasks = ['AntPyBulletEnv-v0', 'HalfCheetahPyBulletEnv-v0', 'Walker2DPyBulletEnv-v0', 'HopperPyBulletEnv-v0',\n",
    "         'ReacherPyBulletEnv-v0', 'InvertedPendulumPyBulletEnv-v0', 'InvertedPendulumSwingupPyBulletEnv-v0', \n",
    "         'InvertedDoublePendulumPyBulletEnv-v0',\n",
    "         'HumanoidPyBulletEnv-v0','HumanoidFlagrunPyBulletEnv-v0', 'HumanoidFlagrunHarderPyBulletEnv-v0',\n",
    "         'InvertedPendulumMuJoCoEnv-v0', 'InvertedDoublePendulumMuJoCoEnv-v0', \n",
    "         'Walker2DMuJoCoEnv-v0', 'HalfCheetahMuJoCoEnv-v0', 'AntMuJoCoEnv-v0', 'HopperMuJoCoEnv-v0',\n",
    "         'HumanoidMuJoCoEnv-v0']\n",
    "\n",
    "seeds = ['0', '1', '2', '3', '4']\n",
    "for task in tasks:\n",
    "    for s in seeds:\n",
    "        job_filename = 'job_{0}_{1}.sh'.format(task, s)\n",
    "        print(job_filename)\n",
    "        with open(os.path.join(job_sub_dir, job_filename), 'w') as job_file:\n",
    "            job_file.write('#!/bin/bash\\n')\n",
    "            job_file.write('#SBATCH --account=def-dkulic\\n')\n",
    "            job_file.write('#SBATCH --cpus-per-task={}    #Maximum of CPU cores per GPU request: 6 on Cedar, 16 on Graham.\\n'.format(CPU_NUM))\n",
    "            job_file.write('#SBATCH --mem={}               # memory per node\\n'.format(JOB_MEMORY))\n",
    "            job_file.write('#SBATCH --time={}            # time (DD-HH:MM)\\n'.format(JOB_TIME))\n",
    "            job_file.write('#SBATCH --output={0}/{1}_{2}_%N-%j.out        # %N for node name, %j for jobID\\n'.format(job_out_dir, task, s))\n",
    "            job_file.write('## Main processing command\\n')\n",
    "            job_file.write('module load cuda cudnn \\n')\n",
    "            job_file.write('source ~/tf_gpu/bin/activate\\n')\n",
    "            job_file.write('python ../algos_original/td3/td3.py  --env {0} --seed {1} --data_dir {2} --exp_name td3_{0}'.format(task, s, data_out_dir))\n"
   ]
  },
  {
   "cell_type": "code",
   "execution_count": null,
   "metadata": {},
   "outputs": [],
   "source": []
  }
 ],
 "metadata": {
  "kernelspec": {
   "display_name": "Python 3",
   "language": "python",
   "name": "python3"
  },
  "language_info": {
   "codemirror_mode": {
    "name": "ipython",
    "version": 3
   },
   "file_extension": ".py",
   "mimetype": "text/x-python",
   "name": "python",
   "nbconvert_exporter": "python",
   "pygments_lexer": "ipython3",
   "version": "3.7.3"
  }
 },
 "nbformat": 4,
 "nbformat_minor": 2
}
